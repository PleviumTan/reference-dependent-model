{
 "cells": [
  {
   "cell_type": "code",
   "execution_count": 18,
   "metadata": {},
   "outputs": [],
   "source": [
    "import re\n",
    "import os\n",
    "import pandas as pd"
   ]
  },
  {
   "cell_type": "code",
   "execution_count": 26,
   "metadata": {},
   "outputs": [],
   "source": [
    "DISC_DIR = '../ECIR2021rawdata'\n",
    "\n",
    "'''\n",
    "Path structure:\n",
    "/Runs\n",
    "***.qrels\n",
    "'''\n",
    "\n",
    "TEST_COLLECTION = [\n",
    "    'WWW3',\n",
    "    #'STC2',\n",
    "    #'TR18Core',\n",
    "    #'TR19DL'\n",
    "]\n",
    "\n",
    "MAX_DEPTH = 10"
   ]
  },
  {
   "cell_type": "code",
   "execution_count": 36,
   "metadata": {
    "scrolled": true
   },
   "outputs": [
    {
     "name": "stdout",
     "output_type": "stream",
     "text": [
      "['0001', '0', 'clueweb12-0001wb-15-34907', '1', '-1', 'Technion-E-CO-NEW-1', '']\n",
      "['0001', '0', 'clueweb12-1905wb-38-16179', '1', '0.6237114368193188', 'SLWWW-E-CO-REP-1', '']\n",
      "['0001', '0', 'clueweb12-0702wb-93-09014', '1', '7.211234032538786', 'ESTUCeng-E-CO-NEW-1', '']\n",
      "['0001', '0', 'clueweb12-0106wb-66-26988', '0', '1.537493290635147', 'RUCIR-E-CO-NEW-5', '']\n",
      "['0001', '0', 'clueweb12-1805wb-41-15038', '0', '0.6502214', 'RUCIR-E-CO-NEW-2', '']\n",
      "['0001', '0', 'clueweb12-0310wb-69-11721', '1', '4.612415578365999', 'KASYS-E-CO-NEW-4', '']\n",
      "['0001', '0', 'clueweb12-0208wb-82-02589', '1', '4.936113759277925', 'KASYS-E-CO-NEW-5', '']\n",
      "['0001', '0', 'clueweb12-0816wb-28-21596', '0', '0.47608957', 'RUCIR-E-CO-NEW-3', '']\n",
      "['0001', '0', 'clueweb12-0110wb-25-33760', '0', '0.33223647', 'RUCIR-E-CO-NEW-4', '']\n",
      "['0001', 'Q0', 'clueweb12-0702wb-93-09014', '1', '-4.27087', 'indri', '']\n",
      "['0001', '0', 'clueweb12-1803wb-47-28253', '1', '20.872085571289062', 'NAUIR-E-CO-NEW-1', '']\n",
      "['0001', '0', 'clueweb12-0011wb-01-06740', '1', '0.36220869421958923', 'THUIR-E-CO-NEW-4', '']\n",
      "['0001', '0', 'clueweb12-0208wb-82-02589', '1', '0.854452013969', 'THUIR-E-CO-REV-2', '']\n",
      "['0001', '0', 'clueweb12-0207wb-23-08543', '1', '-0.0008731672423891723', 'mpii_run1', '']\n",
      "['0001', '0', 'clueweb12-1600wb-73-09989', '1', '2.32470614488', 'THUIR-E-CO-REV-3', '']\n",
      "['0001', '0', 'clueweb12-0702wb-93-09014', '1', '6.597100', 'SLWWW-E-CD-NEW-5', '']\n",
      "['0001', '0', 'clueweb12-1600wb-73-09989', '1', '1.9764524969350226', 'SLWWW-E-CO-REP-2', '']\n",
      "['0001', '0', 'clueweb12-0003wb-36-30766', '1', '-1', 'Technion-E-CO-NEW-2', '']\n",
      "['0001', '0', 'clueweb12-1812wb-49-28019', '1', '-1', 'Technion-E-CO-NEW-5', '']\n",
      "['0001', '0', 'clueweb12-0202wb-91-26846', '1', '0.6200605017264602', 'SLWWW-E-CO-REP-3', '']\n",
      "['0001', '0', 'clueweb12-1911wb-53-01086', '1', '1.2134016752243042', 'SLWWW-E-CO-REP-4', '']\n",
      "['0001', '0', 'clueweb12-1516wb-34-05206', '1', '-1', 'Technion-E-CO-NEW-4', '']\n",
      "['0001', '0', 'clueweb12-0702wb-93-09014', '1', '-1', 'Technion-E-CO-NEW-3', '']\n",
      "['0001', '0', 'clueweb12-0003wb-36-30766', '1', '20.65606242985828', 'ESTUCeng-E-CO-NEW-3', '']\n",
      "['0001', '0', 'clueweb12-0915wb-40-26835', '1', '157.2506621708291', 'ESTUCeng-E-CO-NEW-2', '']\n",
      "['0001', '0', 'clueweb12-0506wb-95-33404', '0', '0.3141856789588928', 'RUCIR-E-CO-NEW-1', '']\n",
      "['0001', '0', 'clueweb12-0702wb-93-09014', '1', '6.612800', 'KASYS-E-CO-REP-3', '']\n",
      "['0001', '0', 'clueweb12-0310wb-69-11721', '1', '4.598640649319369', 'KASYS-E-CO-NEW-1', '']\n",
      "['0130', '0', 'clueweb12-1009wb-89-15768', '1', '0.85423', 'KASYS-E-CO-REP-2', '']\n",
      "['0001', '0', 'clueweb12-0208wb-82-02589', '1', '0.854452013969', 'THUIR-E-CO-MAN-Base-2', '']\n",
      "['0001', '0', 'clueweb12-0702wb-93-09014', '1', '-0.0024030699860304594', 'mpii_run2', '']\n",
      "['0001', '0', 'clueweb12-0208wb-82-02589', '1', '0.466712735636', 'THUIR-E-CO-REV-1', '']\n",
      "['0001', '0', 'clueweb12-0506wb-95-33404', '1', '1.37592449079', 'THUIR-E-CO-PU-Base-4', '']\n",
      "['0001', '0', 'clueweb12-1508wb-84-08542', '1', '6.238080024719238', 'NAUIR-E-CO-NEW-5', '']\n",
      "['0001', '0', 'clueweb12-1803wb-47-28253', '1', '22.29134750366211', 'NAUIR-E-CO-NEW-2', '']\n",
      "['0001', '0', 'clueweb12-1516wb-34-05206', '1', '-0.0032707948703318834', 'mpii_run3', '']\n",
      "['0001', '0', 'clueweb12-0007wb-67-04103', '1', '2.1889861190069144', 'THUIR-E-CO-REP-5', '']\n",
      "['0001', '0', 'clueweb12-1803wb-47-28253', '1', '679.0086669921875', 'NAUIR-E-CO-NEW-3', '']\n",
      "['0001', '0', 'clueweb12-0004wb-13-30416', '1', '99.41609954833984', 'NAUIR-E-CO-NEW-4', '']\n"
     ]
    }
   ],
   "source": [
    "'''\n",
    "Parse Qrel Files\n",
    "'''\n",
    "def parse_row(row):\n",
    "    el = row.split(' ')\n",
    "    el[2] = int(re.findall('[0-9]+', el[2])[0])\n",
    "    return el\n",
    "\n",
    "sys_topic_map = {}\n",
    "    \n",
    "\n",
    "for tc in TEST_COLLECTION:\n",
    "    tcdir = DISC_DIR + '/' + tc\n",
    "    fl = os.listdir(tcdir)\n",
    "    \n",
    "    qrel_file = list(filter(lambda f: re.match(r\".*\\.qrels\", f) , fl))[0]\n",
    "    rundir = tcdir + '/Runs'\n",
    "    \n",
    "    with open(tcdir + '/' + qrel_file, 'r+', encoding='utf-8') as f:\n",
    "        qrel_records = [parse_row(x) for x in f.readlines()]\n",
    "            \n",
    "    #print(qrel_records[0])\n",
    "    df = pd.DataFrame(qrel_records, columns=['top_id','doc_id', 'rel'],dtype=float)\n",
    "    #print(df['rel'])\n",
    "    \n",
    "    rl = os.listdir(rundir)\n",
    "    for sys in rl:\n",
    "        with open(rundir + '/' + sys, 'r+', encoding='utf-8') as f:\n",
    "            for row in f.readlines():  \n",
    "                if re.findall('<SYSDESC>', row):\n",
    "                    continue\n",
    "                print(re.split('\\s', row))\n",
    "                break\n",
    "            \n",
    "        \n",
    "        \n",
    "    \n",
    "    \n",
    "    \n",
    "        "
   ]
  },
  {
   "cell_type": "code",
   "execution_count": 72,
   "metadata": {},
   "outputs": [],
   "source": [
    "\n",
    "with open(score_file, 'r+', encoding='utf-8') as f:"
   ]
  },
  {
   "cell_type": "code",
   "execution_count": 73,
   "metadata": {},
   "outputs": [],
   "source": []
  },
  {
   "cell_type": "code",
   "execution_count": 84,
   "metadata": {},
   "outputs": [],
   "source": []
  },
  {
   "cell_type": "code",
   "execution_count": null,
   "metadata": {},
   "outputs": [],
   "source": []
  },
  {
   "cell_type": "code",
   "execution_count": 83,
   "metadata": {},
   "outputs": [
    {
     "name": "stdout",
     "output_type": "stream",
     "text": [
      "11-2-4\n"
     ]
    }
   ],
   "source": []
  },
  {
   "cell_type": "code",
   "execution_count": null,
   "metadata": {},
   "outputs": [],
   "source": []
  }
 ],
 "metadata": {
  "kernelspec": {
   "display_name": "local-venv",
   "language": "python",
   "name": "local-venv"
  },
  "language_info": {
   "codemirror_mode": {
    "name": "ipython",
    "version": 3
   },
   "file_extension": ".py",
   "mimetype": "text/x-python",
   "name": "python",
   "nbconvert_exporter": "python",
   "pygments_lexer": "ipython3",
   "version": "3.7.13"
  }
 },
 "nbformat": 4,
 "nbformat_minor": 2
}
